{
 "cells": [
  {
   "cell_type": "markdown",
   "id": "942f3519",
   "metadata": {},
   "source": [
    "# Scratch Prediction \n",
    "\n",
    "Using Images "
   ]
  },
  {
   "cell_type": "code",
   "execution_count": null,
   "id": "6d40dfda",
   "metadata": {},
   "outputs": [],
   "source": [
    "# %pip install opencv-python\n",
    "\n",
    "# Import Dependencies\n",
    "import cv2\n",
    "import numpy as np\n",
    "from tensorflow.keras.models import load_model\n"
   ]
  },
  {
   "cell_type": "code",
   "execution_count": 5,
   "id": "c6f024d8",
   "metadata": {},
   "outputs": [
    {
     "name": "stderr",
     "output_type": "stream",
     "text": [
      "WARNING:absl:Compiled the loaded model, but the compiled metrics have yet to be built. `model.compile_metrics` will be empty until you train or evaluate the model.\n"
     ]
    }
   ],
   "source": [
    "# Load the saved model\n",
    "model = load_model('scratch_model.h5')  "
   ]
  },
  {
   "cell_type": "markdown",
   "id": "070880d8",
   "metadata": {},
   "source": [
    "### Emotion Prediction "
   ]
  },
  {
   "cell_type": "code",
   "execution_count": 6,
   "id": "b66b1296",
   "metadata": {},
   "outputs": [
    {
     "name": "stdout",
     "output_type": "stream",
     "text": [
      "\u001b[1m1/1\u001b[0m \u001b[32m━━━━━━━━━━━━━━━━━━━━\u001b[0m\u001b[37m\u001b[0m \u001b[1m0s\u001b[0m 139ms/step\n",
      "Predicted emotion: sad\n",
      "Confidence: 66.01%\n"
     ]
    }
   ],
   "source": [
    "# Define class labels\n",
    "emotions = ['happy', 'sad']  # make sure these match your trained label mapping\n",
    "\n",
    "def predict_emotion(image_path):\n",
    "    # Load image in grayscale\n",
    "    img = cv2.imread(image_path, cv2.IMREAD_GRAYSCALE)\n",
    "    if img is None:\n",
    "        print(f\"Error: could not load image from {image_path}\")\n",
    "        return\n",
    "\n",
    "    # Resize to 48x48 (same as training)\n",
    "    img = cv2.resize(img, (48,48))\n",
    "\n",
    "    # Normalize pixel values\n",
    "    img = img / 255.0\n",
    "\n",
    "    # Reshape to match model input\n",
    "    img = img.reshape(1,48,48,1)\n",
    "\n",
    "    # Predict\n",
    "    prediction = model.predict(img)\n",
    "    predicted_label = np.argmax(prediction)\n",
    "\n",
    "    # Output\n",
    "    print(f\"Predicted emotion: {emotions[predicted_label]}\")\n",
    "    print(f\"Confidence: {prediction[0][predicted_label]*100:.2f}%\")\n",
    "\n",
    "# Example usage:\n",
    "predict_emotion(r'C:\\Users\\kaitl\\Documents\\Vandy_BootCamp\\Machine-Learning-Emotions\\machine-learning-emotional-training\\prediction_trials\\baby2.jpg')\n"
   ]
  },
  {
   "cell_type": "code",
   "execution_count": 7,
   "id": "f3493285",
   "metadata": {},
   "outputs": [
    {
     "name": "stdout",
     "output_type": "stream",
     "text": [
      "\u001b[1m1/1\u001b[0m \u001b[32m━━━━━━━━━━━━━━━━━━━━\u001b[0m\u001b[37m\u001b[0m \u001b[1m0s\u001b[0m 38ms/step\n",
      "Predicted emotion: happy\n",
      "Confidence: 80.00%\n"
     ]
    }
   ],
   "source": [
    "# Example usage:\n",
    "predict_emotion(r'C:\\Users\\kaitl\\Documents\\Vandy_BootCamp\\Machine-Learning-Emotions\\machine-learning-emotional-training\\prediction_trials\\baby.jpg')"
   ]
  }
 ],
 "metadata": {
  "kernelspec": {
   "display_name": "env1",
   "language": "python",
   "name": "python3"
  },
  "language_info": {
   "codemirror_mode": {
    "name": "ipython",
    "version": 3
   },
   "file_extension": ".py",
   "mimetype": "text/x-python",
   "name": "python",
   "nbconvert_exporter": "python",
   "pygments_lexer": "ipython3",
   "version": "3.12.7"
  }
 },
 "nbformat": 4,
 "nbformat_minor": 5
}
