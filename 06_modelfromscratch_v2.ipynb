{
 "cells": [
  {
   "cell_type": "code",
   "execution_count": 1,
   "id": "47f5d466",
   "metadata": {},
   "outputs": [
    {
     "name": "stderr",
     "output_type": "stream",
     "text": [
      "/var/folders/ts/rrv1dt9d52s7_xtsxzwgqgrw0000gn/T/ipykernel_88511/885692262.py:13: SettingWithCopyWarning: \n",
      "A value is trying to be set on a copy of a slice from a DataFrame.\n",
      "Try using .loc[row_indexer,col_indexer] = value instead\n",
      "\n",
      "See the caveats in the documentation: https://pandas.pydata.org/pandas-docs/stable/user_guide/indexing.html#returning-a-view-versus-a-copy\n",
      "  filtered['emotion'] = filtered['emotion'].map({3: 0, 4: 1, 1:2, 5:3})\n"
     ]
    },
    {
     "name": "stdout",
     "output_type": "stream",
     "text": [
      "Shape of X: (19615, 48, 48, 1)\n",
      "Shape of y: (19615, 4)\n"
     ]
    }
   ],
   "source": [
    "import pandas as pd\n",
    "import numpy as np\n",
    "import matplotlib.pyplot as plt\n",
    "from tensorflow.keras.utils import to_categorical\n",
    "\n",
    "# Load CSV\n",
    "data = pd.read_csv(\"/Users/lauraleecallahan/Desktop/Project_4/fer2013.csv\")\n",
    "\n",
    "# Filter for happy (label 3) and sad (label 4)\n",
    "filtered = data[data['emotion'].isin([1,3,4,5])]\n",
    "\n",
    "# Map labels: 3 → 0 (happy), 4 → 1 (sad)\n",
    "filtered['emotion'] = filtered['emotion'].map({3: 0, 4: 1, 1:2, 5:3})\n",
    "\n",
    "# Convert pixels string to numpy array\n",
    "X = []\n",
    "for i in range(len(filtered)):\n",
    "    img = np.fromstring(filtered.iloc[i]['pixels'], sep=' ').reshape(48,48)\n",
    "    X.append(img)\n",
    "\n",
    "X = np.array(X)\n",
    "y = filtered['emotion'].values\n",
    "\n",
    "# Normalize pixel values\n",
    "X = X / 255.0\n",
    "\n",
    "# Reshape for CNN input\n",
    "X = X.reshape(-1, 48, 48, 1)\n",
    "\n",
    "# One-hot encode labels\n",
    "y = to_categorical(y, 4)\n",
    "\n",
    "print(f\"Shape of X: {X.shape}\")\n",
    "print(f\"Shape of y: {y.shape}\")\n"
   ]
  },
  {
   "cell_type": "code",
   "execution_count": null,
   "id": "a4fea969",
   "metadata": {},
   "outputs": [
    {
     "name": "stdout",
     "output_type": "stream",
     "text": [
      "Epoch 1/20\n"
     ]
    },
    {
     "name": "stderr",
     "output_type": "stream",
     "text": [
      "/opt/anaconda3/lib/python3.11/site-packages/keras/src/layers/convolutional/base_conv.py:107: UserWarning: Do not pass an `input_shape`/`input_dim` argument to a layer. When using Sequential models, prefer using an `Input(shape)` object as the first layer in the model instead.\n",
      "  super().__init__(activity_regularizer=activity_regularizer, **kwargs)\n"
     ]
    },
    {
     "name": "stdout",
     "output_type": "stream",
     "text": [
      "\u001b[1m246/246\u001b[0m \u001b[32m━━━━━━━━━━━━━━━━━━━━\u001b[0m\u001b[37m\u001b[0m \u001b[1m5s\u001b[0m 20ms/step - accuracy: 0.4580 - loss: 1.1433 - val_accuracy: 0.6222 - val_loss: 0.8682\n",
      "Epoch 2/20\n",
      "\u001b[1m246/246\u001b[0m \u001b[32m━━━━━━━━━━━━━━━━━━━━\u001b[0m\u001b[37m\u001b[0m \u001b[1m5s\u001b[0m 19ms/step - accuracy: 0.6408 - loss: 0.8780 - val_accuracy: 0.6781 - val_loss: 0.7912\n",
      "Epoch 3/20\n",
      "\u001b[1m246/246\u001b[0m \u001b[32m━━━━━━━━━━━━━━━━━━━━\u001b[0m\u001b[37m\u001b[0m \u001b[1m5s\u001b[0m 19ms/step - accuracy: 0.6772 - loss: 0.7950 - val_accuracy: 0.7023 - val_loss: 0.7177\n",
      "Epoch 4/20\n",
      "\u001b[1m246/246\u001b[0m \u001b[32m━━━━━━━━━━━━━━━━━━━━\u001b[0m\u001b[37m\u001b[0m \u001b[1m5s\u001b[0m 19ms/step - accuracy: 0.7021 - loss: 0.7416 - val_accuracy: 0.7270 - val_loss: 0.6766\n",
      "Epoch 5/20\n",
      "\u001b[1m246/246\u001b[0m \u001b[32m━━━━━━━━━━━━━━━━━━━━\u001b[0m\u001b[37m\u001b[0m \u001b[1m5s\u001b[0m 19ms/step - accuracy: 0.7279 - loss: 0.6914 - val_accuracy: 0.7372 - val_loss: 0.6468\n",
      "Epoch 6/20\n",
      "\u001b[1m246/246\u001b[0m \u001b[32m━━━━━━━━━━━━━━━━━━━━\u001b[0m\u001b[37m\u001b[0m \u001b[1m5s\u001b[0m 19ms/step - accuracy: 0.7443 - loss: 0.6517 - val_accuracy: 0.7479 - val_loss: 0.6249\n",
      "Epoch 7/20\n",
      "\u001b[1m246/246\u001b[0m \u001b[32m━━━━━━━━━━━━━━━━━━━━\u001b[0m\u001b[37m\u001b[0m \u001b[1m5s\u001b[0m 19ms/step - accuracy: 0.7677 - loss: 0.5986 - val_accuracy: 0.7522 - val_loss: 0.6103\n",
      "Epoch 8/20\n",
      "\u001b[1m246/246\u001b[0m \u001b[32m━━━━━━━━━━━━━━━━━━━━\u001b[0m\u001b[37m\u001b[0m \u001b[1m5s\u001b[0m 19ms/step - accuracy: 0.7737 - loss: 0.5826 - val_accuracy: 0.7640 - val_loss: 0.6000\n",
      "Epoch 9/20\n",
      "\u001b[1m246/246\u001b[0m \u001b[32m━━━━━━━━━━━━━━━━━━━━\u001b[0m\u001b[37m\u001b[0m \u001b[1m5s\u001b[0m 19ms/step - accuracy: 0.7885 - loss: 0.5460 - val_accuracy: 0.7596 - val_loss: 0.6009\n",
      "Epoch 10/20\n",
      "\u001b[1m246/246\u001b[0m \u001b[32m━━━━━━━━━━━━━━━━━━━━\u001b[0m\u001b[37m\u001b[0m \u001b[1m5s\u001b[0m 19ms/step - accuracy: 0.8012 - loss: 0.5120 - val_accuracy: 0.7627 - val_loss: 0.6118\n",
      "Epoch 11/20\n",
      "\u001b[1m246/246\u001b[0m \u001b[32m━━━━━━━━━━━━━━━━━━━━\u001b[0m\u001b[37m\u001b[0m \u001b[1m5s\u001b[0m 19ms/step - accuracy: 0.8020 - loss: 0.4905 - val_accuracy: 0.7655 - val_loss: 0.6029\n",
      "Epoch 12/20\n",
      "\u001b[1m246/246\u001b[0m \u001b[32m━━━━━━━━━━━━━━━━━━━━\u001b[0m\u001b[37m\u001b[0m \u001b[1m5s\u001b[0m 19ms/step - accuracy: 0.8111 - loss: 0.4730 - val_accuracy: 0.7764 - val_loss: 0.5910\n",
      "Epoch 13/20\n",
      "\u001b[1m246/246\u001b[0m \u001b[32m━━━━━━━━━━━━━━━━━━━━\u001b[0m\u001b[37m\u001b[0m \u001b[1m5s\u001b[0m 19ms/step - accuracy: 0.8412 - loss: 0.4221 - val_accuracy: 0.7808 - val_loss: 0.5957\n",
      "Epoch 14/20\n",
      "\u001b[1m246/246\u001b[0m \u001b[32m━━━━━━━━━━━━━━━━━━━━\u001b[0m\u001b[37m\u001b[0m \u001b[1m5s\u001b[0m 19ms/step - accuracy: 0.8417 - loss: 0.4049 - val_accuracy: 0.7864 - val_loss: 0.5993\n",
      "Epoch 15/20\n",
      "\u001b[1m246/246\u001b[0m \u001b[32m━━━━━━━━━━━━━━━━━━━━\u001b[0m\u001b[37m\u001b[0m \u001b[1m5s\u001b[0m 19ms/step - accuracy: 0.8513 - loss: 0.3792 - val_accuracy: 0.7882 - val_loss: 0.6109\n",
      "Epoch 16/20\n",
      "\u001b[1m246/246\u001b[0m \u001b[32m━━━━━━━━━━━━━━━━━━━━\u001b[0m\u001b[37m\u001b[0m \u001b[1m5s\u001b[0m 19ms/step - accuracy: 0.8635 - loss: 0.3533 - val_accuracy: 0.7910 - val_loss: 0.6203\n",
      "Epoch 17/20\n",
      "\u001b[1m246/246\u001b[0m \u001b[32m━━━━━━━━━━━━━━━━━━━━\u001b[0m\u001b[37m\u001b[0m \u001b[1m5s\u001b[0m 19ms/step - accuracy: 0.8700 - loss: 0.3284 - val_accuracy: 0.7856 - val_loss: 0.6497\n",
      "Epoch 18/20\n",
      "\u001b[1m246/246\u001b[0m \u001b[32m━━━━━━━━━━━━━━━━━━━━\u001b[0m\u001b[37m\u001b[0m \u001b[1m5s\u001b[0m 19ms/step - accuracy: 0.8707 - loss: 0.3229 - val_accuracy: 0.7933 - val_loss: 0.6397\n",
      "Epoch 19/20\n",
      "\u001b[1m246/246\u001b[0m \u001b[32m━━━━━━━━━━━━━━━━━━━━\u001b[0m\u001b[37m\u001b[0m \u001b[1m5s\u001b[0m 19ms/step - accuracy: 0.8807 - loss: 0.3029 - val_accuracy: 0.7945 - val_loss: 0.6677\n",
      "Epoch 20/20\n",
      "\u001b[1m246/246\u001b[0m \u001b[32m━━━━━━━━━━━━━━━━━━━━\u001b[0m\u001b[37m\u001b[0m \u001b[1m5s\u001b[0m 19ms/step - accuracy: 0.8896 - loss: 0.2785 - val_accuracy: 0.7968 - val_loss: 0.6899\n"
     ]
    }
   ],
   "source": [
    "from tensorflow.keras.models import Sequential\n",
    "from tensorflow.keras.layers import Conv2D, MaxPooling2D, Flatten, Dense, Dropout\n",
    "\n",
    "# Build the CNN\n",
    "model = Sequential([\n",
    "    Conv2D(32, (3,3), activation='relu', input_shape=(48,48,1)),\n",
    "    MaxPooling2D(2,2),\n",
    "    Conv2D(64, (3,3), activation='relu'),\n",
    "    MaxPooling2D(2,2),\n",
    "    Flatten(),\n",
    "    Dense(128, activation='relu'),\n",
    "    Dropout(0.5),\n",
    "    Dense(4, activation='softmax')\n",
    "])\n",
    "\n",
    "model.compile(optimizer='adam', loss='categorical_crossentropy', metrics=['accuracy'])\n",
    "\n",
    "\n",
    "# Train\n",
    "history = model.fit(X, y, validation_split=0.2, epochs=20, batch_size=64)\n"
   ]
  },
  {
   "cell_type": "code",
   "execution_count": 6,
   "id": "89c34fbf",
   "metadata": {},
   "outputs": [],
   "source": [
    "#save model and weights\n",
    "model.save('my_model.keras')\n",
    "\n"
   ]
  }
 ],
 "metadata": {
  "kernelspec": {
   "display_name": "base",
   "language": "python",
   "name": "python3"
  },
  "language_info": {
   "codemirror_mode": {
    "name": "ipython",
    "version": 3
   },
   "file_extension": ".py",
   "mimetype": "text/x-python",
   "name": "python",
   "nbconvert_exporter": "python",
   "pygments_lexer": "ipython3",
   "version": "3.11.8"
  }
 },
 "nbformat": 4,
 "nbformat_minor": 5
}
